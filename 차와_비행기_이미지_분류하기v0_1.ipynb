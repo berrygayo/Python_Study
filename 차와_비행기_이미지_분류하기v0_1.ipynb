{
  "nbformat": 4,
  "nbformat_minor": 0,
  "metadata": {
    "colab": {
      "name": "차와 비행기 이미지 분류하기v0.1.ipynb",
      "provenance": [],
      "private_outputs": true,
      "toc_visible": true,
      "mount_file_id": "15naENbJYKvSKEI7JD_7NGGlYFRMi4zv8",
      "authorship_tag": "ABX9TyOAa6jIYTGnVg7No1hqrcat",
      "include_colab_link": true
    },
    "kernelspec": {
      "name": "python3",
      "display_name": "Python 3"
    }
  },
  "cells": [
    {
      "cell_type": "markdown",
      "metadata": {
        "id": "view-in-github",
        "colab_type": "text"
      },
      "source": [
        "<a href=\"https://colab.research.google.com/github/berrygayo/Python_Study/blob/master/%EC%B0%A8%EC%99%80_%EB%B9%84%ED%96%89%EA%B8%B0_%EC%9D%B4%EB%AF%B8%EC%A7%80_%EB%B6%84%EB%A5%98%ED%95%98%EA%B8%B0v0_1.ipynb\" target=\"_parent\"><img src=\"https://colab.research.google.com/assets/colab-badge.svg\" alt=\"Open In Colab\"/></a>"
      ]
    },
    {
      "cell_type": "markdown",
      "metadata": {
        "id": "xfci0QuyMhj2",
        "colab_type": "text"
      },
      "source": [
        "# 차와 비행기 이미지 분류하기 \n",
        "참고 : \n",
        "https://codetorial.net/tensorflow/classifying_the_cats_and_dogs.html"
      ]
    },
    {
      "cell_type": "code",
      "metadata": {
        "id": "K0bqoWS19RHP",
        "colab_type": "code",
        "colab": {}
      },
      "source": [
        "# tensorflow와 tf.keras 임포트 \n",
        "import tensorflow as tf \n",
        "from tensorflow import keras\n",
        "\n",
        "# 헬퍼(helper) 라이브러리 임포트 \n",
        "import numpy as np\n",
        "import matplotlib.pyplot as plt \n",
        "\n",
        "print(tf.__version__)"
      ],
      "execution_count": null,
      "outputs": []
    },
    {
      "cell_type": "code",
      "metadata": {
        "id": "XPcKABg5PbLJ",
        "colab_type": "code",
        "colab": {}
      },
      "source": [
        "# 데이터셋 불러오기 \n",
        "!unzip '/content/drive/My Drive/dataset/cars_and_plane2.zip'"
      ],
      "execution_count": null,
      "outputs": []
    },
    {
      "cell_type": "code",
      "metadata": {
        "id": "7BGMu2KpSXCS",
        "colab_type": "code",
        "colab": {}
      },
      "source": [
        "from IPython.display import Image\n",
        "Image('/content/cars_and_plane2/training_set/train_cars/Acura_MDX_2014_42_18_290_35_6_77_67_193_20_FWD_7_4_SUV_pso.jpg')"
      ],
      "execution_count": null,
      "outputs": []
    },
    {
      "cell_type": "markdown",
      "metadata": {
        "id": "b6oTzHxD1giP",
        "colab_type": "text"
      },
      "source": [
        "# 경로 지정하기 "
      ]
    },
    {
      "cell_type": "code",
      "metadata": {
        "id": "j1nij_EfMlFW",
        "colab_type": "code",
        "colab": {}
      },
      "source": [
        "import os\n",
        "# 기본 경로\n",
        "base_dir = '/content/cars_and_plane2'\n",
        "\n",
        "train_dir = os.path.join(base_dir, 'training_set')\n",
        "validation_dir = os.path.join(base_dir, 'validation_set')\n",
        "\n",
        "# 훈련에 사용되는 이미지 경로\n",
        "train_cars_dir = os.path.join(train_dir, 'train_cars')\n",
        "train_plane_dir = os.path.join(train_dir, 'train_plane')\n",
        "print(train_cars_dir)\n",
        "print(train_plane_dir)\n",
        "\n",
        "# 테스트에 사용되는 이미지 경로\n",
        "validation_cars_dir = os.path.join(validation_dir, 'vali_cars')\n",
        "validation_plane_dir = os.path.join(validation_dir, 'vali_plane')\n",
        "print(validation_cars_dir)\n",
        "print(validation_plane_dir)"
      ],
      "execution_count": null,
      "outputs": []
    },
    {
      "cell_type": "markdown",
      "metadata": {
        "id": "vGGY1wDD1qta",
        "colab_type": "text"
      },
      "source": [
        "# 파일 이름과 개수 "
      ]
    },
    {
      "cell_type": "code",
      "metadata": {
        "id": "6gxgjyEM1IrX",
        "colab_type": "code",
        "colab": {}
      },
      "source": [
        "train_cars_fnames = os.listdir( train_cars_dir ) \n",
        "#os.listdir() 메서드는 경로 내에 있는 파일의 이름을 리스트로 만든다. \n",
        "train_plane_fnames = os.listdir( train_plane_dir )\n",
        "\n",
        "print(train_cars_fnames[:5])\n",
        "print(train_plane_fnames[:5])"
      ],
      "execution_count": null,
      "outputs": []
    },
    {
      "cell_type": "code",
      "metadata": {
        "id": "X-p6qvlQ1WS9",
        "colab_type": "code",
        "colab": {}
      },
      "source": [
        "# 각 경로에 있는 파일명 리스트의 길이를  통해 파일의 개수 확인\n",
        "print('Total training cars images :', len(os.listdir(train_cars_dir)))\n",
        "print('Total training plane images :', len(os.listdir(train_plane_dir)))\n",
        "\n",
        "print('Total validation cars images :', len(os.listdir(validation_cars_dir)))\n",
        "print('Total validation plane images :', len(os.listdir(validation_plane_dir)))"
      ],
      "execution_count": null,
      "outputs": []
    },
    {
      "cell_type": "markdown",
      "metadata": {
        "id": "NLAIhCA22Ipn",
        "colab_type": "text"
      },
      "source": [
        "# 이미지 확인하기 "
      ]
    },
    {
      "cell_type": "code",
      "metadata": {
        "id": "z8zDJULO2Lyg",
        "colab_type": "code",
        "colab": {}
      },
      "source": [
        "%matplotlib inline\n",
        "\n",
        "import matplotlib.image as mpimg\n",
        "import matplotlib.pyplot as plt\n",
        "\n",
        "nrows, ncols = 4, 4\n",
        "pic_index = 0\n",
        "\n",
        "fig = plt.gcf()\n",
        "fig.set_size_inches(ncols*3, nrows*3)\n",
        "\n",
        "pic_index+=8\n",
        "\n",
        "next_cars_pix = [os.path.join(train_cars_dir, fname)\n",
        "                for fname in train_cars_fnames[ pic_index-8:pic_index]]\n",
        "\n",
        "next_plane_pix = [os.path.join(train_plane_dir, fname)\n",
        "                for fname in train_plane_fnames[ pic_index-8:pic_index]]\n",
        "\n",
        "for i, img_path in enumerate(next_cars_pix+next_plane_pix):\n",
        "  sp = plt.subplot(nrows, ncols, i + 1)\n",
        "  sp.axis('Off')\n",
        "\n",
        "  img = mpimg.imread(img_path)\n",
        "  plt.imshow(img)\n",
        "\n",
        "plt.show()"
      ],
      "execution_count": null,
      "outputs": []
    },
    {
      "cell_type": "markdown",
      "metadata": {
        "id": "TxN85RqJ2nGz",
        "colab_type": "text"
      },
      "source": [
        "# 모델 구성하기 "
      ]
    },
    {
      "cell_type": "code",
      "metadata": {
        "id": "_RhTfwWj2qTx",
        "colab_type": "code",
        "colab": {}
      },
      "source": [
        "import tensorflow as tf\n",
        "\n",
        "\n",
        "model = tf.keras.models.Sequential([\n",
        "  tf.keras.layers.Conv2D(16, (3,3), activation='relu', input_shape=(150, 150, 3)),\n",
        "  tf.keras.layers.MaxPooling2D(2,2),\n",
        "  tf.keras.layers.Conv2D(32, (3,3), activation='relu'),\n",
        "  tf.keras.layers.MaxPooling2D(2,2),\n",
        "  tf.keras.layers.Conv2D(64, (3,3), activation='relu'),\n",
        "  tf.keras.layers.MaxPooling2D(2,2),\n",
        "  tf.keras.layers.Flatten(),\n",
        "  tf.keras.layers.Dense(512, activation='relu'),\n",
        "  tf.keras.layers.Dense(1, activation='sigmoid')\n",
        "])\n",
        "\n",
        "model.summary()"
      ],
      "execution_count": null,
      "outputs": []
    },
    {
      "cell_type": "markdown",
      "metadata": {
        "id": "w-O1J2WK2nJS",
        "colab_type": "text"
      },
      "source": [
        "# 모델 컴파일하기\n"
      ]
    },
    {
      "cell_type": "code",
      "metadata": {
        "id": "WzvtWZ8U22bH",
        "colab_type": "code",
        "colab": {}
      },
      "source": [
        "from tensorflow.keras.optimizers import RMSprop\n",
        "\n",
        "model.compile(optimizer=RMSprop(lr=0.001),\n",
        "            loss='binary_crossentropy',\n",
        "            metrics = ['accuracy'])"
      ],
      "execution_count": null,
      "outputs": []
    },
    {
      "cell_type": "markdown",
      "metadata": {
        "id": "Sn86kiEx2nLh",
        "colab_type": "text"
      },
      "source": [
        "# 이미지 데이터 전처리하기\n",
        "훈련을 진행하기 전, tf.keras.preprocessing.image 모듈의 ImageDataGenerator 클래스를 이용해서 데이터 전처리를 진행합니다."
      ]
    },
    {
      "cell_type": "code",
      "metadata": {
        "id": "fFnE5R3I29FX",
        "colab_type": "code",
        "colab": {}
      },
      "source": [
        "from tensorflow.keras.preprocessing.image import ImageDataGenerator\n",
        "\n",
        "train_datagen = ImageDataGenerator( rescale = 1.0/255. )\n",
        "test_datagen  = ImageDataGenerator( rescale = 1.0/255. )\n",
        "\n",
        "train_generator = train_datagen.flow_from_directory(train_dir,\n",
        "                                                  batch_size=20,\n",
        "                                                  class_mode='binary',\n",
        "                                                  target_size=(150, 150))\n",
        "\n",
        "validation_generator =  test_datagen.flow_from_directory(validation_dir,\n",
        "                                                       batch_size=20,\n",
        "                                                       class_mode  = 'binary',\n",
        "                                                       target_size = (150, 150))"
      ],
      "execution_count": null,
      "outputs": []
    },
    {
      "cell_type": "markdown",
      "metadata": {
        "id": "CIls3Jdr2nNY",
        "colab_type": "text"
      },
      "source": [
        "# 모델 훈련하기 "
      ]
    },
    {
      "cell_type": "code",
      "metadata": {
        "id": "DZwUroeE6KeE",
        "colab_type": "code",
        "colab": {}
      },
      "source": [
        "history = model.fit(train_generator,\n",
        "                    validation_data=validation_generator,\n",
        "                    steps_per_epoch=10, #한번에 학습시킬 training 데이터 batch 수 \n",
        "                    epochs=10,\n",
        "                    validation_steps=10, # 한번에 학습시킬 validation 데이터 batch 수  \n",
        "                    verbose=2)"
      ],
      "execution_count": null,
      "outputs": []
    },
    {
      "cell_type": "markdown",
      "metadata": {
        "id": "LA_8dWdR6NYQ",
        "colab_type": "text"
      },
      "source": [
        "# 정화도와 손실 확인하기 "
      ]
    },
    {
      "cell_type": "code",
      "metadata": {
        "id": "T6F14II564lp",
        "colab_type": "code",
        "colab": {}
      },
      "source": [
        "import matplotlib.pyplot as plt\n",
        "\n",
        "acc = history.history['accuracy']\n",
        "val_acc = history.history['val_accuracy']\n",
        "loss = history.history['loss']\n",
        "val_loss = history.history['val_loss']\n",
        "\n",
        "epochs = range(len(acc))\n",
        "\n",
        "plt.plot(epochs, acc, 'b', label='Training accuracy')\n",
        "plt.plot(epochs, val_acc, 'bo', label='Validation accuracy')\n",
        "plt.title('Training and validation accuracy')\n",
        "plt.legend()\n",
        "\n",
        "plt.figure()\n",
        "\n",
        "plt.plot(epochs, loss, 'g', label='Training Loss')\n",
        "plt.plot(epochs, val_loss, 'go', label='Validation Loss')\n",
        "plt.title('Training and validation loss')\n",
        "plt.legend()\n",
        "plt.show()"
      ],
      "execution_count": null,
      "outputs": []
    },
    {
      "cell_type": "markdown",
      "metadata": {
        "id": "KexdT2NP8g6m",
        "colab_type": "text"
      },
      "source": [
        "# 테스트 이미지 분류하기 \n",
        "\n"
      ]
    },
    {
      "cell_type": "code",
      "metadata": {
        "id": "RLIP9MhX8pvc",
        "colab_type": "code",
        "colab": {}
      },
      "source": [
        "Image('/content/cars_and_plane2/test_set/test_cars/car1.jpg')"
      ],
      "execution_count": null,
      "outputs": []
    },
    {
      "cell_type": "code",
      "metadata": {
        "id": "5tdujlfl8p1N",
        "colab_type": "code",
        "colab": {}
      },
      "source": [
        "import numpy as np\n",
        "from google.colab import files\n",
        "from keras.preprocessing import image\n",
        "\n",
        "uploaded=files.upload()\n",
        "\n",
        "for fn in uploaded.keys():\n",
        "\n",
        "  path='/content/' + fn\n",
        "  img=image.load_img(path, target_size=(150, 150))\n",
        "\n",
        "  x=image.img_to_array(img)\n",
        "  x=np.expand_dims(x, axis=0)\n",
        "  images = np.vstack([x])\n",
        "\n",
        "  classes = model.predict(images, batch_size=10)\n",
        "\n",
        "  print(classes[0])\n",
        "\n",
        "  if classes[0]>0:\n",
        "    print(fn + \" is a plane\")\n",
        "  else:\n",
        "    print(fn + \" is a car\")"
      ],
      "execution_count": null,
      "outputs": []
    },
    {
      "cell_type": "code",
      "metadata": {
        "id": "NJXJOcLO9Gy-",
        "colab_type": "code",
        "colab": {}
      },
      "source": [
        "Image('/content/cars_and_plane2/test_set/test_plane/plane1.jpg')"
      ],
      "execution_count": null,
      "outputs": []
    },
    {
      "cell_type": "code",
      "metadata": {
        "id": "-KmIEBoS9HrX",
        "colab_type": "code",
        "colab": {}
      },
      "source": [
        "import numpy as np\n",
        "from google.colab import files\n",
        "from keras.preprocessing import image\n",
        "\n",
        "uploaded=files.upload()\n",
        "\n",
        "for fn in uploaded.keys():\n",
        "\n",
        "  path='/content/' + fn\n",
        "  img=image.load_img(path, target_size=(150, 150))\n",
        "\n",
        "  x=image.img_to_array(img)\n",
        "  x=np.expand_dims(x, axis=0)\n",
        "  images = np.vstack([x])\n",
        "\n",
        "  classes = model.predict(images, batch_size=10)\n",
        "\n",
        "  print(classes[0])\n",
        "\n",
        "  if classes[0]>0:\n",
        "    print(fn + \" is a plane\")\n",
        "  else:\n",
        "    print(fn + \" is a car\")"
      ],
      "execution_count": null,
      "outputs": []
    },
    {
      "cell_type": "code",
      "metadata": {
        "id": "H38Z0J1_YccJ",
        "colab_type": "code",
        "colab": {}
      },
      "source": [
        "Image('/content/drive/My Drive/dataset/test_flyingcar_1.jpg')"
      ],
      "execution_count": null,
      "outputs": []
    },
    {
      "cell_type": "code",
      "metadata": {
        "id": "2mxtcE69XikP",
        "colab_type": "code",
        "colab": {}
      },
      "source": [
        "import numpy as np\n",
        "from google.colab import files\n",
        "from keras.preprocessing import image\n",
        "\n",
        "uploaded=files.upload()\n",
        "\n",
        "for fn in uploaded.keys():\n",
        "\n",
        "  path='/content/' + fn\n",
        "  img=image.load_img(path, target_size=(150, 150))\n",
        "\n",
        "  x=image.img_to_array(img)\n",
        "  x=np.expand_dims(x, axis=0)\n",
        "  images = np.vstack([x])\n",
        "\n",
        "  classes = model.predict(images, batch_size=10)\n",
        "\n",
        "  print(classes[0])\n",
        "\n",
        "  if classes[0]>0:\n",
        "    print(fn + \" is a plane\")\n",
        "  else:\n",
        "    print(fn + \" is a car\")"
      ],
      "execution_count": null,
      "outputs": []
    },
    {
      "cell_type": "code",
      "metadata": {
        "id": "doD5wLutpL8W",
        "colab_type": "code",
        "colab": {}
      },
      "source": [
        ""
      ],
      "execution_count": null,
      "outputs": []
    },
    {
      "cell_type": "code",
      "metadata": {
        "id": "GfOtNLjFpL-8",
        "colab_type": "code",
        "colab": {}
      },
      "source": [
        "# 확률 나올 수 있도록 모델 재설정 \n",
        "model2= keras.Sequential([\n",
        "                          keras.layers.Flatten(input_shape=(150,150)), #150*150 픽셀의 이미지 포멧을 1차원 배열로 변환 \n",
        "                          keras.layers.Dense(128, activation='relu'),\n",
        "                          keras.layers.Dense(2, activation='softmax')  # 두 개 클래스 중 하나에 속할 확률 출력                      \n",
        "])"
      ],
      "execution_count": null,
      "outputs": []
    },
    {
      "cell_type": "code",
      "metadata": {
        "id": "-ZJMZ-ibpMBG",
        "colab_type": "code",
        "colab": {}
      },
      "source": [
        "model2.compile(optimizer='adam',\n",
        "              loss='sparse_categorical_crossentropy',\n",
        "              metrics=['accuracy'])"
      ],
      "execution_count": null,
      "outputs": []
    },
    {
      "cell_type": "code",
      "metadata": {
        "id": "WvJayblXpMDR",
        "colab_type": "code",
        "colab": {}
      },
      "source": [
        "model2.fit(train_images, train_labels, epochs=5)"
      ],
      "execution_count": null,
      "outputs": []
    },
    {
      "cell_type": "code",
      "metadata": {
        "id": "PJ569lxKpMFf",
        "colab_type": "code",
        "colab": {}
      },
      "source": [
        ""
      ],
      "execution_count": null,
      "outputs": []
    },
    {
      "cell_type": "code",
      "metadata": {
        "id": "ZkNCxlpqpMH8",
        "colab_type": "code",
        "colab": {}
      },
      "source": [
        ""
      ],
      "execution_count": null,
      "outputs": []
    },
    {
      "cell_type": "code",
      "metadata": {
        "id": "0G1ZD8I4pMKp",
        "colab_type": "code",
        "colab": {}
      },
      "source": [
        ""
      ],
      "execution_count": null,
      "outputs": []
    },
    {
      "cell_type": "code",
      "metadata": {
        "id": "_6NNu4HXpMMu",
        "colab_type": "code",
        "colab": {}
      },
      "source": [
        ""
      ],
      "execution_count": null,
      "outputs": []
    }
  ]
}